{
 "cells": [
  {
   "cell_type": "code",
   "execution_count": null,
   "id": "f654cf84",
   "metadata": {},
   "outputs": [],
   "source": [
    "import cv2\n",
    "\n",
    "def read_image(image_path):\n",
    "    \"\"\"\n",
    "    Reads an image from the specified path using OpenCV.\n",
    "\n",
    "    Args:\n",
    "        image_path (str): The path to the image file.\n",
    "\n",
    "    Returns:\n",
    "        numpy.ndarray: The image as a NumPy array.\n",
    "\n",
    "    Example:\n",
    "        img = read_image('path/to/image')\n",
    "    \"\"\"\n",
    "    img = cv2.imread(image_path)\n",
    "    return img\n"
   ]
  }
 ],
 "metadata": {
  "kernelspec": {
   "display_name": "Python 3",
   "language": "python",
   "name": "python3"
  },
  "language_info": {
   "codemirror_mode": {
    "name": "ipython",
    "version": 3
   },
   "file_extension": ".py",
   "mimetype": "text/x-python",
   "name": "python",
   "nbconvert_exporter": "python",
   "pygments_lexer": "ipython3",
   "version": "3.6.9"
  }
 },
 "nbformat": 4,
 "nbformat_minor": 5
}
