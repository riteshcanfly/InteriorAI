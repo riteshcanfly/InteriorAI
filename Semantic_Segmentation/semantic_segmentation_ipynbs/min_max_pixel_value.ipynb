{
 "cells": [
  {
   "cell_type": "code",
   "execution_count": 2,
   "id": "5821b592",
   "metadata": {},
   "outputs": [
    {
     "name": "stdout",
     "output_type": "stream",
     "text": [
      "Minimum pixel value: 0\n",
      "Maximum pixel value: 10\n"
     ]
    }
   ],
   "source": [
    "from PIL import Image\n",
    "import numpy as np\n",
    "\n",
    "def find_min_max_pixel_value(image_path):\n",
    "    \"\"\"\n",
    "    Finds the minimum and maximum pixel values in an image.\n",
    "\n",
    "    Args:\n",
    "        image_path (str): The path to the image file.\n",
    "    Returns:\n",
    "        tuple: A tuple containing the minimum and maximum pixel values.\n",
    "    Example:\n",
    "        image_path = 'path/to/image'\n",
    "        min_value, max_value = find_min_max_pixel_value(image_path)\n",
    "        print(\"Minimum pixel value:\", min_value)\n",
    "        print(\"Maximum pixel value:\", max_value)\n",
    "    \"\"\"\n",
    "    \n",
    "     # Open the image using PIL\n",
    "    img = Image.open(image_path)\n",
    "\n",
    "    # Convert the image to a NumPy array\n",
    "    img_array = np.array(img)\n",
    "\n",
    "    # Find the maximum and minimum pixel values in the array\n",
    "    max_value = img_array.max()\n",
    "    min_value = img_array.min()\n",
    "\n",
    "    return min_value, max_value\n",
    "\n"
   ]
  }
 ],
 "metadata": {
  "kernelspec": {
   "display_name": "Python 3",
   "language": "python",
   "name": "python3"
  },
  "language_info": {
   "codemirror_mode": {
    "name": "ipython",
    "version": 3
   },
   "file_extension": ".py",
   "mimetype": "text/x-python",
   "name": "python",
   "nbconvert_exporter": "python",
   "pygments_lexer": "ipython3",
   "version": "3.6.9"
  }
 },
 "nbformat": 4,
 "nbformat_minor": 5
}
