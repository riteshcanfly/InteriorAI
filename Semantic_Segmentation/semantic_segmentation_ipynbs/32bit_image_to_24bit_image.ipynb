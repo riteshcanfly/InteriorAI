{
 "cells": [
  {
   "cell_type": "code",
   "execution_count": null,
   "id": "ffa03b97",
   "metadata": {},
   "outputs": [],
   "source": [
    "import os\n",
    "from PIL import Image\n",
    "\n",
    "def convert_32bit_to_24bit(image_dir,output_dir):\n",
    "    \"\"\"\n",
    "    Convert 32-bit(RGBA)PNG images in the specified directory to 24-bit (RGB) format.\n",
    "\n",
    "    Args:\n",
    "        image_dir (str): The directory path where the 32-bit PNG images are located.\n",
    "        output_dir (str): The directory path where the 24-bit PNG images will be saved.\n",
    "        \n",
    "    Returns:\n",
    "        None: The function saves the converted images in place.\n",
    "    \n",
    "    Example usage:\n",
    "        image_dir = \"Path/to/images/directory\"\n",
    "        output_dir = \"path/to/output/dir\"\n",
    "        convert_32bit_to_24bit(image_dir,output_dir)\n",
    "    \"\"\"\n",
    "    \n",
    "    # Loop through all files in the directory\n",
    "    os.makedirs(output_dir, exist_ok=True)\n",
    "    for filename in os.listdir(image_dir):\n",
    "        if filename.endswith(\".png\"):\n",
    "            # Load the image\n",
    "            image_path = os.path.join(image_dir, filename)\n",
    "            img = Image.open(image_path)\n",
    "\n",
    "            # Convert to 24-bit color depth\n",
    "            img_24bit = img.convert(\"RGB\")\n",
    "           \n",
    "            # SaveS the converted image in the output_dir\n",
    "            output_filename = os.path.splitext(filename)[0] + '.png'\n",
    "            img_24bit.save(os.path.join(output_dir, output_filename))\n",
    "            "
   ]
  }
 ],
 "metadata": {
  "kernelspec": {
   "display_name": "Python 3",
   "language": "python",
   "name": "python3"
  },
  "language_info": {
   "codemirror_mode": {
    "name": "ipython",
    "version": 3
   },
   "file_extension": ".py",
   "mimetype": "text/x-python",
   "name": "python",
   "nbconvert_exporter": "python",
   "pygments_lexer": "ipython3",
   "version": "3.6.9"
  }
 },
 "nbformat": 4,
 "nbformat_minor": 5
}
