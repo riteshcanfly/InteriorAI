{
 "cells": [
  {
   "cell_type": "markdown",
   "id": "1baae9a0",
   "metadata": {},
   "source": [
    "# Install the package"
   ]
  },
  {
   "cell_type": "code",
   "execution_count": null,
   "id": "cdfcaa24",
   "metadata": {},
   "outputs": [],
   "source": [
    "#! pip install git+https://github.com/divamgupta/image-segmentation-keras"
   ]
  },
  {
   "cell_type": "markdown",
   "id": "db9a6071",
   "metadata": {},
   "source": [
    "<h2>Initialize the model</h2>"
   ]
  },
  {
   "cell_type": "code",
   "execution_count": null,
   "id": "dcec0095",
   "metadata": {},
   "outputs": [],
   "source": [
    "from keras_segmentation.models.unet import vgg_unet\n",
    "\n",
    "model = vgg_unet(n_classes=11, input_height=320, input_width=640)\n"
   ]
  },
  {
   "cell_type": "markdown",
   "id": "62c1f05c",
   "metadata": {},
   "source": [
    "<h2>Train the model</h2>"
   ]
  },
  {
   "cell_type": "code",
   "execution_count": null,
   "id": "0dfef998",
   "metadata": {},
   "outputs": [],
   "source": [
    "model.train(\n",
    "    train_images =  \"/path/to/train/images/folder\",\n",
    "    train_annotations = \"/path/to/train/masks(semantic_labels)/folder\",\n",
    "    checkpoints_path = \"/tmp/vgg_unet_1\" , \n",
    "    epochs= 70 # No. of epochs as per required\n",
    ")"
   ]
  },
  {
   "cell_type": "markdown",
   "id": "4a102007",
   "metadata": {},
   "source": [
    "## Evaluate the model"
   ]
  },
  {
   "cell_type": "code",
   "execution_count": null,
   "id": "8e5dda80",
   "metadata": {},
   "outputs": [],
   "source": [
    "print(model.evaluate_segmentation( inp_images_dir=\"/path/to/test/images/folder\", annotations_dir=\"/path/to/test/masks(semantic_labels)/folder\" ) )"
   ]
  },
  {
   "cell_type": "markdown",
   "id": "22978f73",
   "metadata": {},
   "source": [
    "## RGB values of the classes used in the segmentation predictions"
   ]
  },
  {
   "cell_type": "code",
   "execution_count": null,
   "id": "efbd7162",
   "metadata": {},
   "outputs": [],
   "source": [
    "from keras_segmentation.data_utils.data_loader import class_colors"
   ]
  },
  {
   "cell_type": "code",
   "execution_count": null,
   "id": "93399d0a",
   "metadata": {},
   "outputs": [],
   "source": [
    "RGB_Values = [color[::-1] for color in class_colors[:11]]\n",
    "class_names = ['Wall','Table','Storage','TV Unit','Chair','Sofa','Curtain','Ceiling','Rug','Floor','Others']\n",
    "for i, color in enumerate(RGB_Values):\n",
    "    class_name = class_names[i]\n",
    "    print(f\"Class Name: {class_name},RGB Value: {color}\")\n"
   ]
  },
  {
   "cell_type": "markdown",
   "id": "62724cfc",
   "metadata": {},
   "source": [
    "## Imports"
   ]
  },
  {
   "cell_type": "code",
   "execution_count": null,
   "id": "4f7a101c",
   "metadata": {},
   "outputs": [],
   "source": [
    "%matplotlib inline\n",
    "\n",
    "import matplotlib\n",
    "import matplotlib.pyplot as plt"
   ]
  },
  {
   "cell_type": "markdown",
   "id": "d9e8c34e",
   "metadata": {},
   "source": [
    "## Semantic segmentation on the input image using the trained model"
   ]
  },
  {
   "cell_type": "code",
   "execution_count": null,
   "id": "3dfda92a",
   "metadata": {},
   "outputs": [],
   "source": [
    "output = model.predict_segmentation(\n",
    "    inp=\"/path/to/test/image\",\n",
    "    out_fname=\"/tmp/out.png\"\n",
    ")"
   ]
  },
  {
   "cell_type": "markdown",
   "id": "fbb2b4ee",
   "metadata": {},
   "source": [
    "## Display the segmentation output as an image"
   ]
  },
  {
   "cell_type": "code",
   "execution_count": null,
   "id": "bc955c30",
   "metadata": {},
   "outputs": [],
   "source": [
    "plt.imshow(output)"
   ]
  },
  {
   "cell_type": "code",
   "execution_count": null,
   "id": "5ca0247e",
   "metadata": {},
   "outputs": [],
   "source": [
    "from IPython.display import Image\n",
    "Image('/tmp/out.png')"
   ]
  },
  {
   "cell_type": "markdown",
   "id": "18540c62",
   "metadata": {},
   "source": [
    "## Overlaying the Segmentation Ouput on the Input Image"
   ]
  },
  {
   "cell_type": "code",
   "execution_count": null,
   "id": "775f2f22",
   "metadata": {},
   "outputs": [],
   "source": [
    "output = model.predict_segmentation(\n",
    "    inp=\"/path/to/test/image\",\n",
    "    out_fname=\"/tmp/out.png\" ,\n",
    "    overlay_img=True, # set this true if you want to overlay the image\n",
    "    show_legends=True, # set this true if you want to show class names and their corresponding color along the output image\n",
    "    class_names = ['Wall','Table','Storage','TV Unit','Chair','Sofa','Curtain','Ceiling','Rug','Floor','Others'] #Class Names\n",
    ")"
   ]
  },
  {
   "cell_type": "code",
   "execution_count": null,
   "id": "fc4b0724",
   "metadata": {},
   "outputs": [],
   "source": [
    "from IPython.display import Image\n",
    "Image('/tmp/out.png')"
   ]
  },
  {
   "cell_type": "markdown",
   "id": "524df56e",
   "metadata": {},
   "source": [
    "## Perform Multiple Semantic Segmentation Predictions on a Directory of Input Images"
   ]
  },
  {
   "cell_type": "code",
   "execution_count": null,
   "id": "3f4ba974",
   "metadata": {},
   "outputs": [],
   "source": [
    "output = model.predict_multiple(\n",
    "    inp_dir = \"path/to/test/images/folder\",\n",
    "    out_dir = \"path/to/output/folder\"\n",
    ")"
   ]
  },
  {
   "cell_type": "markdown",
   "id": "a3b322a0",
   "metadata": {},
   "source": [
    "## Perform Multiple Overlaying the Segmentation Ouput Predictions on a Directory of Input Images"
   ]
  },
  {
   "cell_type": "code",
   "execution_count": null,
   "id": "e8c4dbf9",
   "metadata": {},
   "outputs": [],
   "source": [
    "output = model.predict_multiple(\n",
    "    inp_dir = \"path/to/test/images/folder\",\n",
    "    out_dir = \"path/to/output/folder\",\n",
    "    overlay_img=True, # set this true if you want to overlay the image\n",
    "    show_legends=True, # set this true if you want to show class names and their corresponding color along the output image\n",
    "    class_names = ['Wall','Table','Storage','TV Unit','Chair','Sofa','Curtain','Ceiling','Rug','Floor','Others'] #Class Names\n",
    ")"
   ]
  }
 ],
 "metadata": {
  "kernelspec": {
   "display_name": "Python 3",
   "language": "python",
   "name": "python3"
  },
  "language_info": {
   "codemirror_mode": {
    "name": "ipython",
    "version": 3
   },
   "file_extension": ".py",
   "mimetype": "text/x-python",
   "name": "python",
   "nbconvert_exporter": "python",
   "pygments_lexer": "ipython3",
   "version": "3.6.9"
  }
 },
 "nbformat": 4,
 "nbformat_minor": 5
}
