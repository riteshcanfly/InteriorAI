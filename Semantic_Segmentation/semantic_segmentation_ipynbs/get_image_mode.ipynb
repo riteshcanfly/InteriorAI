{
 "cells": [
  {
   "cell_type": "code",
   "execution_count": 1,
   "id": "dd43dc0d",
   "metadata": {},
   "outputs": [],
   "source": [
    "from PIL import Image\n",
    "\n",
    "def get_image_mode(image_path):\n",
    "    \"\"\"\n",
    "    Get the mode of an image such as image is RGBA OR RGB OR L(GRAYSCALE).\n",
    "\n",
    "    Args:\n",
    "        image_path (str): The path to the image file.\n",
    "\n",
    "    Returns:\n",
    "        str: The mode of the image, or None if an error occurs.\n",
    "    Example:\n",
    "        image_path = \"path/to/image\"\n",
    "        mode = get_image_mode(image_path)\n",
    "        print(\"Image Mode:\", mode)\n",
    "\n",
    "    \"\"\"\n",
    "    try:\n",
    "        image = Image.open(image_path)\n",
    "        return image.mode\n",
    "    except Exception as e:\n",
    "        print(\"Unable to open image:\", image_path)\n",
    "        print(\"Error:\", str(e))\n",
    "        return None\n"
   ]
  },
  {
   "cell_type": "code",
   "execution_count": 3,
   "id": "73b404d9",
   "metadata": {},
   "outputs": [
    {
     "name": "stdout",
     "output_type": "stream",
     "text": [
      "Image Mode: L\n"
     ]
    }
   ],
   "source": [
    "image_path = \"/home/ritesh/Desktop/workENV/atithi_work/Semantic_Segmentation/dataset_combined_final/labels_1n2n3n4/image_1.png\"\n",
    "mode = get_image_mode(image_path)\n",
    "print(\"Image Mode:\", mode)"
   ]
  },
  {
   "cell_type": "code",
   "execution_count": null,
   "id": "eb8da454",
   "metadata": {},
   "outputs": [],
   "source": []
  }
 ],
 "metadata": {
  "kernelspec": {
   "display_name": "Python 3",
   "language": "python",
   "name": "python3"
  },
  "language_info": {
   "codemirror_mode": {
    "name": "ipython",
    "version": 3
   },
   "file_extension": ".py",
   "mimetype": "text/x-python",
   "name": "python",
   "nbconvert_exporter": "python",
   "pygments_lexer": "ipython3",
   "version": "3.11.3"
  }
 },
 "nbformat": 4,
 "nbformat_minor": 5
}
