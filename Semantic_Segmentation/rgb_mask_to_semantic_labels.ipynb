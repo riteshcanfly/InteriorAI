{
 "cells": [
  {
   "cell_type": "code",
   "execution_count": 1,
   "id": "04621f71",
   "metadata": {},
   "outputs": [],
   "source": [
    "import os\n",
    "import cv2\n",
    "import numpy as np\n",
    "\n",
    "def convert_images_to_masks(input_folder, output_folder):\n",
    "    \"\"\"\n",
    "    Converts RGB color image masks to class image masks based on predefined RGB values.\n",
    "\n",
    "    Args:\n",
    "        input_folder (str): The path to the folder containing the RGB color image masks.\n",
    "        output_folder (str): The path to the folder where the class image masks will be saved.\n",
    "        \n",
    "    Returns:\n",
    "        None: The function saves the labeled images in the output folder.\n",
    "    Example:\n",
    "        input_folder = \"/path/to/input/folder\"\n",
    "        output_folder = \"/path/to/output.folder\"\n",
    "        convert_images_to_masks(input_folder, output_folder)\n",
    "    \"\"\"\n",
    "    rgb_values = {\n",
    "        (170, 255, 255): 0,    # wall\n",
    "        (170, 170, 255): 1,    # table\n",
    "        (255, 85, 255): 2,     # storage\n",
    "        (170, 85, 255): 3,     # TV Unit\n",
    "        (255, 170, 255): 4,    # chair\n",
    "        (85, 255, 255): 5,     # sofa\n",
    "        (255, 255, 170): 6,    # curtain\n",
    "        (85, 255, 170): 7,     # ceiling\n",
    "        (170, 170, 170): 8,    # rug\n",
    "        (85, 170, 170): 9,     # floors\n",
    "        (0, 0, 0): 10,         # others\n",
    "    }\n",
    "\n",
    "    # Create the output folder if it doesn't exist\n",
    "    os.makedirs(output_folder, exist_ok=True)\n",
    "\n",
    "    # Get the list of RGB color image masks in the input folder\n",
    "    rgb_mask_files = os.listdir(input_folder)\n",
    "\n",
    "    for rgb_mask_file in rgb_mask_files:\n",
    "        # Load the RGB color image mask\n",
    "        rgb_mask_path = os.path.join(input_folder, rgb_mask_file)\n",
    "        rgb_mask = cv2.imread(rgb_mask_path)\n",
    "        rgb_mask = cv2.cvtColor(rgb_mask, cv2.COLOR_BGR2RGB)\n",
    "\n",
    "        # Create the class image mask\n",
    "        class_mask = np.zeros(rgb_mask.shape[:2], dtype=np.uint8)\n",
    "        for rgb, class_label in rgb_values.items():\n",
    "            mask = np.all(rgb_mask == np.array(rgb), axis=2)\n",
    "            class_mask[mask] = class_label\n",
    "\n",
    "        # Save the class image mask as PNG to preserve pixel values\n",
    "        class_mask_path = os.path.join(output_folder, rgb_mask_file)\n",
    "        cv2.imwrite(class_mask_path, class_mask)\n"
   ]
  },
  {
   "cell_type": "code",
   "execution_count": null,
   "id": "7fa58926",
   "metadata": {},
   "outputs": [],
   "source": []
  }
 ],
 "metadata": {
  "kernelspec": {
   "display_name": "Python 3",
   "language": "python",
   "name": "python3"
  },
  "language_info": {
   "codemirror_mode": {
    "name": "ipython",
    "version": 3
   },
   "file_extension": ".py",
   "mimetype": "text/x-python",
   "name": "python",
   "nbconvert_exporter": "python",
   "pygments_lexer": "ipython3",
   "version": "3.6.9"
  }
 },
 "nbformat": 4,
 "nbformat_minor": 5
}
