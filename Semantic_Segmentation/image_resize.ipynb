{
 "cells": [
  {
   "cell_type": "code",
   "execution_count": null,
   "id": "dc98860d",
   "metadata": {},
   "outputs": [],
   "source": [
    "from PIL import Image\n",
    "import os\n",
    "\n",
    "def resize_images_in_folder(folder_path, new_width, new_height):\n",
    "    \"\"\"\n",
    "     Resizes all the PNG images in the specified folder to the provided dimensions.\n",
    "\n",
    "    Args:\n",
    "        folder_path (str): Path to the folder containing the PNG images to be resized.\n",
    "        new_width (int): The desired width of the resized images.\n",
    "        new_height (int): The desired height of the resized images\n",
    "        \n",
    "    Returns:\n",
    "        None: The function saves the resized images in place.\n",
    "        \n",
    "    Example:\n",
    "        resize_images_in_folder('/path/to/folder', 480, 360)\n",
    "\n",
    "    \"\"\"\n",
    " \n",
    "    # Iterate over each file in the folder\n",
    "    \n",
    "    for filename in os.listdir(folder_path):\n",
    "        if filename.endswith(\".png\"):\n",
    "            # Open the image file\n",
    "            image_path = os.path.join(folder_path, filename)\n",
    "            image = Image.open(image_path)\n",
    "\n",
    "            # Resize the image\n",
    "            resized_image = image.resize((new_width, new_height))\n",
    "\n",
    "            # Overwrite the original image with the resized version\n",
    "            resized_image.save(image_path)\n"
   ]
  }
 ],
 "metadata": {
  "kernelspec": {
   "display_name": "Python 3 (ipykernel)",
   "language": "python",
   "name": "python3"
  },
  "language_info": {
   "codemirror_mode": {
    "name": "ipython",
    "version": 3
   },
   "file_extension": ".py",
   "mimetype": "text/x-python",
   "name": "python",
   "nbconvert_exporter": "python",
   "pygments_lexer": "ipython3",
   "version": "3.11.1"
  }
 },
 "nbformat": 4,
 "nbformat_minor": 5
}
