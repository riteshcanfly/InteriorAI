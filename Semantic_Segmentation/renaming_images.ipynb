{
 "cells": [
  {
   "cell_type": "code",
   "execution_count": null,
   "id": "3352dadb",
   "metadata": {},
   "outputs": [],
   "source": [
    "import os\n",
    "\n",
    "def rename_files_in_folder(folder_path, new_name_prefix, start_index):\n",
    "    \n",
    "    \"\"\"\n",
    "    Renames the files in a folder with a specified prefix and starting index.\n",
    "\n",
    "    Args:\n",
    "        folder_path (str): The path to the folder containing the files.\n",
    "        new_name_prefix (str): The prefix to prepend to the new file names.\n",
    "        start_index (int): The starting index for renaming the files.\n",
    "        \n",
    "    Returns:\n",
    "        None: The function saves the renamed images in place.\n",
    "        \n",
    "     Example:\n",
    "        rename_files_in_folder('/path/to/folder', 'image_', 541)\n",
    "    \"\"\"\n",
    "    \n",
    "    # Get the list of files in the folder\n",
    "    files = os.listdir(folder_path)\n",
    "\n",
    "    # Sort the files in the desired order\n",
    "    sorted_files = sorted(files)\n",
    "\n",
    "    # Rename the files in the desired order\n",
    "    for index, file_name in enumerate(sorted_files):\n",
    "        file_extension = os.path.splitext(file_name)[1]\n",
    "        new_file_name = f\"{new_name_prefix}{start_index + index}{file_extension}\"\n",
    "        src = os.path.join(folder_path, file_name)\n",
    "        dst = os.path.join(folder_path, new_file_name)\n",
    "        os.rename(src, dst)\n",
    "\n",
    "# Example usage:\n",
    "folder_path = r\"C:\\Users\\HP\\Downloads\\LivingRoomCluster2 (2)\\Images\"\n",
    "new_name_prefix = \"image_\"\n",
    "start_index = 541\n",
    "\n",
    "rename_files_in_folder(folder_path, new_name_prefix, start_index)\n"
   ]
  }
 ],
 "metadata": {
  "kernelspec": {
   "display_name": "Python 3",
   "language": "python",
   "name": "python3"
  },
  "language_info": {
   "codemirror_mode": {
    "name": "ipython",
    "version": 3
   },
   "file_extension": ".py",
   "mimetype": "text/x-python",
   "name": "python",
   "nbconvert_exporter": "python",
   "pygments_lexer": "ipython3",
   "version": "3.6.9"
  }
 },
 "nbformat": 4,
 "nbformat_minor": 5
}
