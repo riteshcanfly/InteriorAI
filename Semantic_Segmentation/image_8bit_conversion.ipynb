{
 "cells": [
  {
   "cell_type": "code",
   "execution_count": null,
   "id": "652ebb64",
   "metadata": {},
   "outputs": [],
   "source": [
    "from PIL import Image\n",
    "import os\n",
    "\n",
    "def convert_images_to_8bit(input_folder):\n",
    "    \"\"\"\n",
    "    Converts PNG images in the specified directory to 8-bit grayscale.\n",
    "\n",
    "    Args:\n",
    "       input_folder (str): Path to the directory containing PNG images.\n",
    "       \n",
    "    Returns:\n",
    "        None: The function saves the converted images in place.\n",
    "       \n",
    "    Example:\n",
    "        convert_images_to_8bit('/path/to/folder')\n",
    "    \"\"\"\n",
    "    # Iterate over files in the input directory\n",
    "    for filename in os.listdir(input_folder):\n",
    "        # Check if the file is a PNG image\n",
    "        if filename.endswith('.png'):\n",
    "            # Open the image using PIL\n",
    "            img = Image.open(os.path.join(input_folder, filename))\n",
    "\n",
    "            # Convert the image to 8-bit grayscale\n",
    "            img_8bit = img.convert('L')\n",
    "\n",
    "            # Create the output filename by removing the extension and adding '.png'\n",
    "            output_filename = os.path.splitext(filename)[0] + '.png'\n",
    "\n",
    "            # Save the 8-bit grayscale image\n",
    "            img_8bit.save(os.path.join(input_folder, output_filename))\n",
    "\n",
    "\n"
   ]
  }
 ],
 "metadata": {
  "kernelspec": {
   "display_name": "Python 3",
   "language": "python",
   "name": "python3"
  },
  "language_info": {
   "codemirror_mode": {
    "name": "ipython",
    "version": 3
   },
   "file_extension": ".py",
   "mimetype": "text/x-python",
   "name": "python",
   "nbconvert_exporter": "python",
   "pygments_lexer": "ipython3",
   "version": "3.6.9"
  }
 },
 "nbformat": 4,
 "nbformat_minor": 5
}
