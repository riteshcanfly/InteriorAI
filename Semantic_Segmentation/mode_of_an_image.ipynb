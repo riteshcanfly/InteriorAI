{
 "cells": [
  {
   "cell_type": "code",
   "execution_count": null,
   "id": "dd43dc0d",
   "metadata": {},
   "outputs": [],
   "source": [
    "from PIL import Image\n",
    "\n",
    "def get_image_mode(image_path):\n",
    "    \"\"\"\n",
    "    Get the mode of an image.\n",
    "\n",
    "    Args:\n",
    "        image_path (str): The path to the image file.\n",
    "\n",
    "    Returns:\n",
    "        str: The mode of the image, or None if an error occurs.\n",
    "    \n",
    "    # Example\n",
    "        image_path = \"/path/to/image\"\n",
    "        mode = get_image_mode(image_path)\n",
    "        print(\"Image Mode:\", mode)\n",
    "    \"\"\"\n",
    "    image = Image.open(image_path)\n",
    "    if image:\n",
    "        return image.mode\n",
    "    else:\n",
    "        print(\"Unable to open image:\", image_path)\n",
    "        return None\n",
    "\n",
    "\n"
   ]
  }
 ],
 "metadata": {
  "kernelspec": {
   "display_name": "Python 3",
   "language": "python",
   "name": "python3"
  },
  "language_info": {
   "codemirror_mode": {
    "name": "ipython",
    "version": 3
   },
   "file_extension": ".py",
   "mimetype": "text/x-python",
   "name": "python",
   "nbconvert_exporter": "python",
   "pygments_lexer": "ipython3",
   "version": "3.6.9"
  }
 },
 "nbformat": 4,
 "nbformat_minor": 5
}
