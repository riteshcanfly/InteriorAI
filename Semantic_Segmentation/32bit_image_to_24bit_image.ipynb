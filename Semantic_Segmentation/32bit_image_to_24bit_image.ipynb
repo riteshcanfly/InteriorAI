{
 "cells": [
  {
   "cell_type": "code",
   "execution_count": null,
   "id": "ffa03b97",
   "metadata": {},
   "outputs": [],
   "source": [
    "import os\n",
    "from PIL import Image\n",
    "\n",
    "def convert_32bit_to_24bit(image_dir):\n",
    "    \"\"\"\n",
    "    Convert 32-bit RGBA PNG images in the specified directory to 24-bit RGB format.\n",
    "\n",
    "    Args:\n",
    "        image_dir (str): The directory path where the 32-bit PNG images are located.\n",
    "        \n",
    "    Returns:\n",
    "        None: The function saves the converted images in place.\n",
    "    \n",
    "    Example usage:\n",
    "        dir_path = \"Path/to/target/directory\"\n",
    "        convert_32bit_to_24bit(dir_path)\n",
    "    \"\"\"\n",
    "    \n",
    "    # Loop through all files in the directory\n",
    "    for filename in os.listdir(image_dir):\n",
    "        if filename.endswith(\".png\"):\n",
    "            # Load the image\n",
    "            image_path = os.path.join(image_dir, filename)\n",
    "            img = Image.open(image_path)\n",
    "\n",
    "            # Convert to 24-bit color depth\n",
    "            img_24bit = img.convert(\"RGB\")\n",
    "\n",
    "            # Save the converted image, overwriting the original\n",
    "            img_24bit.save(image_path)\n",
    "\n",
    "# \n"
   ]
  },
  {
   "cell_type": "code",
   "execution_count": null,
   "id": "7d8481a8",
   "metadata": {},
   "outputs": [],
   "source": []
  }
 ],
 "metadata": {
  "kernelspec": {
   "display_name": "Python 3 (ipykernel)",
   "language": "python",
   "name": "python3"
  },
  "language_info": {
   "codemirror_mode": {
    "name": "ipython",
    "version": 3
   },
   "file_extension": ".py",
   "mimetype": "text/x-python",
   "name": "python",
   "nbconvert_exporter": "python",
   "pygments_lexer": "ipython3",
   "version": "3.11.3"
  }
 },
 "nbformat": 4,
 "nbformat_minor": 5
}
