{
 "cells": [
  {
   "attachments": {},
   "cell_type": "markdown",
   "metadata": {},
   "source": [
    "# Interior AI"
   ]
  },
  {
   "attachments": {},
   "cell_type": "markdown",
   "metadata": {},
   "source": [
    "### Imports"
   ]
  },
  {
   "cell_type": "code",
   "execution_count": 2,
   "metadata": {},
   "outputs": [],
   "source": [
    "import os\n",
    "from PIL import Image\n",
    "import cv2\n",
    "import numpy as np\n",
    "import random\n",
    "import shutil\n",
    "%matplotlib inline\n",
    "import matplotlib\n",
    "import time\n",
    "import functools\n",
    "import tensorflow as tf\n",
    "import matplotlib.pyplot as plt\n",
    "# Load compressed models from tensorflow_hub\n",
    "os.environ['TFHUB_MODEL_LOAD_FORMAT'] = 'COMPRESSED'\n",
    "import tensorflow_hub as hub\n",
    "\n",
    "\n",
    "from Semantic_Segmentation.segmentation_helper import convert_32bit_to_24bit, convert_masks_to_semantic_labels, rename_files_in_folder,train_test_split\n",
    "from style_transfer.style_transfer_helper import rgb_semantic_segmentation_mask_to_binary_mask, resize_style_image,nst_load_img,apply_class_specific_style_transfer"
   ]
  },
  {
   "attachments": {},
   "cell_type": "markdown",
   "metadata": {},
   "source": [
    "## Semantic Segmentation"
   ]
  },
  {
   "attachments": {},
   "cell_type": "markdown",
   "metadata": {},
   "source": [
    "### Setting up Paths\n",
    "Change paths to the image directory to the input and output folder"
   ]
  },
  {
   "attachments": {},
   "cell_type": "markdown",
   "metadata": {},
   "source": [
    "### convert_32bit_to_24bit"
   ]
  },
  {
   "cell_type": "code",
   "execution_count": null,
   "metadata": {},
   "outputs": [],
   "source": [
    "# Uncomment this and add your own path \n",
    "# image_dir = \"path/to/rgba/images/folder\"\n",
    "# output_dir = \"path/to/save/rgb/images/folder\""
   ]
  },
  {
   "cell_type": "code",
   "execution_count": null,
   "metadata": {},
   "outputs": [],
   "source": [
    "convert_32bit_to_24bit(image_dir,output_dir)"
   ]
  },
  {
   "cell_type": "code",
   "execution_count": 4,
   "metadata": {},
   "outputs": [],
   "source": [
    "# Uncomment this and add your own path\n",
    "# input_folder = \"path/to/ground/truth/segmentation/masks\"\n",
    "# output_folder = \"path/to/save/semantic/labels\""
   ]
  },
  {
   "attachments": {},
   "cell_type": "markdown",
   "metadata": {},
   "source": [
    "### convert_masks_to_semantic_labels"
   ]
  },
  {
   "cell_type": "code",
   "execution_count": null,
   "metadata": {},
   "outputs": [],
   "source": [
    "convert_masks_to_semantic_labels(input_folder,output_folder)"
   ]
  },
  {
   "attachments": {},
   "cell_type": "markdown",
   "metadata": {},
   "source": [
    "### rename_files_in_folder"
   ]
  },
  {
   "cell_type": "code",
   "execution_count": null,
   "metadata": {},
   "outputs": [],
   "source": [
    "# Uncomment this and add your own path\n",
    "# image_folder_path = \"path/to/folder/containing/images\"\n",
    "# semantic_label_folder_path = \"path/to/folder/containing/semantic/label/images\"\n",
    "# new_name_prefix = \"image_\"\n",
    "# start_index = 1"
   ]
  },
  {
   "cell_type": "code",
   "execution_count": null,
   "metadata": {},
   "outputs": [],
   "source": [
    "rename_files_in_folder(image_folder_path, new_name_prefix, start_index)\n",
    "rename_files_in_folder(semantic_label_folder_path, new_name_prefix, start_index)"
   ]
  },
  {
   "attachments": {},
   "cell_type": "markdown",
   "metadata": {},
   "source": [
    "### train_test_split"
   ]
  },
  {
   "cell_type": "code",
   "execution_count": null,
   "metadata": {},
   "outputs": [],
   "source": [
    "# Uncomment this and add your own path \n",
    "# images_folder = '/path/to/images_folder'\n",
    "# train_images_folder = '/path/to/train_images_folder'\n",
    "# test_images_folder = '/path/to/test_images_folder'\n",
    "\n",
    "# semantic_label_images_folder = '/path/to/semantic_label_images'\n",
    "# train_semantic_label_images_folder = '/path/to/train_images_folder'\n",
    "# test_semantic_label_images_folder = '/path/to/test_images_folder'\n",
    "\n",
    "# split_ratio = 0.8\n",
    "# random_seed = 42"
   ]
  },
  {
   "cell_type": "code",
   "execution_count": null,
   "metadata": {},
   "outputs": [],
   "source": [
    "train_test_split(images_folder, train_images_folder, test_images_folder, split_ratio, random_seed)\n",
    "train_test_split(semantic_label_images_folder, train_semantic_label_images_folder, test_semantic_label_images_folder, split_ratio, random_seed)"
   ]
  },
  {
   "attachments": {},
   "cell_type": "markdown",
   "metadata": {},
   "source": [
    "### Install the package"
   ]
  },
  {
   "cell_type": "code",
   "execution_count": null,
   "metadata": {},
   "outputs": [],
   "source": [
    "#! pip install git+https://github.com/divamgupta/image-segmentation-keras"
   ]
  },
  {
   "attachments": {},
   "cell_type": "markdown",
   "metadata": {},
   "source": [
    "### Initialize the model"
   ]
  },
  {
   "cell_type": "code",
   "execution_count": null,
   "metadata": {},
   "outputs": [],
   "source": [
    "from keras_segmentation.models.unet import vgg_unet\n",
    "\n",
    "model = vgg_unet(n_classes=11, input_height=320, input_width=640)"
   ]
  },
  {
   "attachments": {},
   "cell_type": "markdown",
   "metadata": {},
   "source": [
    "### Train the Model"
   ]
  },
  {
   "cell_type": "code",
   "execution_count": null,
   "metadata": {},
   "outputs": [],
   "source": [
    "model.train(\n",
    "    train_images =  \"/path/to/train/images/folder\",\n",
    "    train_annotations = \"/path/to/train/masks(semantic_labels)/folder\",\n",
    "    checkpoints_path = \"/tmp/vgg_unet_1\" , \n",
    "    epochs= 70 # No. of epochs as per required\n",
    ")"
   ]
  },
  {
   "attachments": {},
   "cell_type": "markdown",
   "metadata": {},
   "source": [
    "### Evaluate the Model"
   ]
  },
  {
   "cell_type": "code",
   "execution_count": null,
   "metadata": {},
   "outputs": [],
   "source": [
    "print(model.evaluate_segmentation( inp_images_dir=\"/path/to/test/images/folder\", annotations_dir=\"/path/to/test/masks(semantic_labels)/folder\" ) )"
   ]
  },
  {
   "attachments": {},
   "cell_type": "markdown",
   "metadata": {},
   "source": [
    "### RGB values of the classes used in the segmentation predictions"
   ]
  },
  {
   "cell_type": "code",
   "execution_count": null,
   "metadata": {},
   "outputs": [],
   "source": [
    "from keras_segmentation.data_utils.data_loader import class_colors\n",
    "RGB_Values = [color[::-1] for color in class_colors[:11]]\n",
    "class_names = ['Wall','Table','Storage','TV Unit','Chair','Sofa','Curtain','Ceiling','Rug','Floor','Others']\n",
    "for i, color in enumerate(RGB_Values):\n",
    "    class_name = class_names[i]\n",
    "    print(f\"Class Name: {class_name},RGB Value: {color}\")"
   ]
  },
  {
   "attachments": {},
   "cell_type": "markdown",
   "metadata": {},
   "source": [
    "### Perform Multiple Semantic Segmentation Predictions on a Directory of Input Images and save them in the Output Folder"
   ]
  },
  {
   "cell_type": "code",
   "execution_count": null,
   "metadata": {},
   "outputs": [],
   "source": [
    "output = model.predict_multiple(\n",
    "    inp_dir = \"path/to/test/images/folder\",\n",
    "    out_dir = \"path/to/output/folder\"\n",
    ")"
   ]
  },
  {
   "attachments": {},
   "cell_type": "markdown",
   "metadata": {},
   "source": [
    "### Perform Multiple Overlaying the Segmentation Ouput Predictions on a Directory of Input Images and save them in the Output Folder"
   ]
  },
  {
   "cell_type": "code",
   "execution_count": null,
   "metadata": {},
   "outputs": [],
   "source": [
    "output = model.predict_multiple(\n",
    "    inp_dir = \"path/to/test/images/folder\",\n",
    "    out_dir = \"path/to/output/folder\",\n",
    "    overlay_img=True, # set this true if you want to overlay the image\n",
    "    show_legends=True, # set this true if you want to show class names and their corresponding color along the output image\n",
    "    class_names = ['Wall','Table','Storage','TV Unit','Chair','Sofa','Curtain','Ceiling','Rug','Floor','Others'] #Class Names\n",
    ")"
   ]
  },
  {
   "attachments": {},
   "cell_type": "markdown",
   "metadata": {},
   "source": [
    "## Style Transfer"
   ]
  },
  {
   "attachments": {},
   "cell_type": "markdown",
   "metadata": {},
   "source": [
    "### rgb_semantic_segmentation_mask_to_binary_mask"
   ]
  },
  {
   "cell_type": "code",
   "execution_count": null,
   "metadata": {},
   "outputs": [],
   "source": [
    "# Uncomment this and add your own path \n",
    "# segmented_mask = 'path/to/segmented_mask'\n",
    "# Class_name = 'Wall'\n",
    "# save_path = 'path/to/binary_mask.png'"
   ]
  },
  {
   "cell_type": "code",
   "execution_count": null,
   "metadata": {},
   "outputs": [],
   "source": [
    "rgb_semantic_segmentation_mask_to_binary_mask(segmented_mask, Class_name, save_path)"
   ]
  },
  {
   "attachments": {},
   "cell_type": "markdown",
   "metadata": {},
   "source": [
    "### resize_style_image"
   ]
  },
  {
   "cell_type": "code",
   "execution_count": null,
   "metadata": {},
   "outputs": [],
   "source": [
    "# Uncomment this and add your own path \n",
    "# new_width = 1920\n",
    "# new_height = 1080\n",
    "# image_path = \"/path/to/style/image\""
   ]
  },
  {
   "cell_type": "code",
   "execution_count": null,
   "metadata": {},
   "outputs": [],
   "source": [
    "resize_style_image(image_path,new_width,new_height)"
   ]
  },
  {
   "attachments": {},
   "cell_type": "markdown",
   "metadata": {},
   "source": [
    "### Neural Style Transfer"
   ]
  },
  {
   "cell_type": "code",
   "execution_count": null,
   "metadata": {},
   "outputs": [],
   "source": [
    "# Uncomment this and add your own path \n",
    "# content_image = nst_load_img('path/to/content/image')\n",
    "# style_image = nst_load_img('path/to/style/image')\n",
    "# output_image_path = 'path/to/save/neural/style/image'"
   ]
  },
  {
   "cell_type": "code",
   "execution_count": null,
   "metadata": {},
   "outputs": [],
   "source": [
    "# Load the arbitrary image stylization model from TensorFlow Hub\n",
    "hub_model = hub.load('https://tfhub.dev/google/magenta/arbitrary-image-stylization-v1-256/2')\n",
    "\n",
    "# Apply image stylization by passing the content and style images to the model\n",
    "stylized_image = hub_model(tf.constant(content_image), tf.constant(style_image))[0]\n",
    "\n",
    "# Convert the stylized image tensor to tf.uint8 data type for saving\n",
    "stylized_image = tf.image.convert_image_dtype(stylized_image, tf.uint8)\n",
    "\n",
    "# Remove the singleton dimensions and obtain a 3-dimensional image tensor\n",
    "stylized_image = tf.squeeze(stylized_image)\n",
    "\n",
    "# Convert the stylized image tensor to a NumPy array\n",
    "stylized_image = stylized_image.numpy()\n",
    "\n",
    "# Save the stylized image as a PNG file\n",
    "plt.imsave(output_image_path, stylized_image)"
   ]
  },
  {
   "attachments": {},
   "cell_type": "markdown",
   "metadata": {},
   "source": [
    "### apply_class_specific_style_transfer"
   ]
  },
  {
   "cell_type": "code",
   "execution_count": null,
   "metadata": {},
   "outputs": [],
   "source": [
    "# Uncomment this and add your own path \n",
    "# input_image = \"path/to/input_image\"\n",
    "# binary_mask = \"path/to/binary_mask\"\n",
    "# style_image = \"path/to/neural_style_image\"\n",
    "# output_path = \"path/to/class_style_transfer_image\""
   ]
  },
  {
   "cell_type": "code",
   "execution_count": null,
   "metadata": {},
   "outputs": [],
   "source": [
    "apply_class_specific_style_transfer(input_image, binary_mask, style_image, output_path)"
   ]
  }
 ],
 "metadata": {
  "kernelspec": {
   "display_name": "interior_ai_env",
   "language": "python",
   "name": "python3"
  },
  "language_info": {
   "codemirror_mode": {
    "name": "ipython",
    "version": 3
   },
   "file_extension": ".py",
   "mimetype": "text/x-python",
   "name": "python",
   "nbconvert_exporter": "python",
   "pygments_lexer": "ipython3",
   "version": "3.11.3"
  },
  "orig_nbformat": 4
 },
 "nbformat": 4,
 "nbformat_minor": 2
}
