{
 "cells": [
  {
   "cell_type": "code",
   "execution_count": 1,
   "id": "ecfd3022",
   "metadata": {},
   "outputs": [],
   "source": [
    "import cv2\n",
    "import numpy as np\n",
    "\n",
    "def apply_class_specific_style_transfer(input_image, binary_mask, style_image, output_path):\n",
    "    \"\"\"\n",
    "    Applies class-specific style transfer to an input image based on a binary mask and a style image.\n",
    "\n",
    "    Args:\n",
    "        input_image (str): File path of the input image.\n",
    "        binary_mask (str): File path of the binary mask image.\n",
    "        style_image (str): File path of the style image.\n",
    "        output_path (str): File path to save the stylized output image.\n",
    "\n",
    "    Returns:\n",
    "        The Function saves the stylized output image in the output path provided\n",
    "\n",
    "    Example:\n",
    "        input_image = \"input_image.jpg\"\n",
    "        binary_mask = \"binary_mask.png\"\n",
    "        style_image = \"style_image.jpg\"\n",
    "        output_path = \"stylized_output.jpg\"\n",
    "        apply_object_specific_style_transfer(input_image, binary_mask, style_image, output_path)\n",
    "    \"\"\"\n",
    "\n",
    "    # Load input image, binary mask, and style image\n",
    "    input_image = cv2.imread(input_image)\n",
    "    binary_mask = cv2.imread(binary_mask, 0)\n",
    "    style_image = cv2.imread(style_image)\n",
    "\n",
    "    # Resize binary mask and style image to match input image size\n",
    "    binary_mask_resized = cv2.resize(binary_mask, (input_image.shape[1], input_image.shape[0]))\n",
    "    style_image_resized = cv2.resize(style_image, (input_image.shape[1], input_image.shape[0]))\n",
    "\n",
    "    # Convert binary mask to color channels\n",
    "    binary_mask_channels = cv2.cvtColor(binary_mask_resized, cv2.COLOR_GRAY2BGR)\n",
    "\n",
    "    # Invert binary mask\n",
    "    inverted_mask = cv2.bitwise_not(binary_mask_channels)\n",
    "\n",
    "    # Multiply style image with binary mask\n",
    "    rc_ts = cv2.bitwise_and(binary_mask_channels, style_image_resized)\n",
    "\n",
    "    # Multiply input image with inverted binary mask\n",
    "    one_minus_rc_i = cv2.bitwise_and(inverted_mask, input_image)\n",
    "\n",
    "    # Add the style and non-style parts\n",
    "    stylized_output = cv2.add(rc_ts, one_minus_rc_i)\n",
    "\n",
    "    # Save the stylized output image\n",
    "    cv2.imwrite(output_path, stylized_output)\n"
   ]
  },
  {
   "cell_type": "code",
   "execution_count": null,
   "id": "7f0abaf5",
   "metadata": {},
   "outputs": [],
   "source": []
  }
 ],
 "metadata": {
  "kernelspec": {
   "display_name": "Python 3",
   "language": "python",
   "name": "python3"
  },
  "language_info": {
   "codemirror_mode": {
    "name": "ipython",
    "version": 3
   },
   "file_extension": ".py",
   "mimetype": "text/x-python",
   "name": "python",
   "nbconvert_exporter": "python",
   "pygments_lexer": "ipython3",
   "version": "3.6.9"
  }
 },
 "nbformat": 4,
 "nbformat_minor": 5
}
