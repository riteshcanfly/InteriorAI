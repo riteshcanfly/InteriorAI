{
 "cells": [
  {
   "cell_type": "code",
   "execution_count": 2,
   "id": "30e7a70f",
   "metadata": {},
   "outputs": [],
   "source": [
    "import cv2\n",
    "import numpy as np\n",
    "\n",
    "def rgb_semantic_segmentation_mask_to_binary_mask(segmented_mask, class_name, save_path):\n",
    "    \"\"\"\n",
    "    Converts a segmented mask image to a binary mask for a specific class.\n",
    "\n",
    "    Args:\n",
    "        segmented_mask (numpy.ndarray): Segmented mask image.\n",
    "        class_name (str): Name of the class to extract the binary mask for.\n",
    "        save_path (str): File path to save the binary mask image.\n",
    "\n",
    "    Returns:\n",
    "        The function saves the binary mask at the provided path\n",
    "\n",
    "    Raises:\n",
    "        KeyError: If the provided class name is not found in the dictionary.\n",
    "\n",
    "    Example:\n",
    "        segmented_mask = 'path/to/segmented_mask.png'\n",
    "        class_name = 'Wall'\n",
    "        save_path = 'path/to/binary_mask.png'\n",
    "        rgb_semantic_segmentation_mask_to_binary_mask(segmented_mask, class_name, save_path)\n",
    "\n",
    "    \"\"\"\n",
    "\n",
    "    class_colors = {\n",
    "        \"Wall\": np.array([20, 215, 197]),\n",
    "        \"Table\": np.array([207, 248, 132]),\n",
    "        \"Storage\": np.array([183, 244, 155]),\n",
    "        \"TV Unit\": np.array([144, 71, 111]),\n",
    "        \"Chair\": np.array([128, 48, 71]),\n",
    "        \"Sofa\": np.array([50, 158, 75]),\n",
    "        \"Curtain\": np.array([241, 169, 37]),\n",
    "        \"Ceiling\": np.array([222, 181, 51]),\n",
    "        \"Rug\": np.array([244, 104, 161]),\n",
    "        \"Floor\": np.array([31, 133, 226]),\n",
    "        \"Others\": np.array([204, 47, 7])\n",
    "    }\n",
    "    \n",
    "    # Get the class color RGB value based on the class name\n",
    "    class_color_rgb = class_colors.get(class_name)\n",
    "\n",
    "    # Check if the class color RGB value is None, indicating that the class name is not found in the dictionary\n",
    "    if class_color_rgb is None:\n",
    "        # Create a string of available classes by joining the keys of the class_colors dictionary with commas\n",
    "        available_classes = \", \".join(class_colors.keys())\n",
    "        # Raise a KeyError with an informative error message\n",
    "        raise KeyError(f\"Class '{class_name}' not found in the dictionary. Available classes: {available_classes}\")\n",
    "    \n",
    "    segmented_image = cv2.imread(segmented_mask)\n",
    "\n",
    "    # segmented mask to grayscale\n",
    "    gray_mask = cv2.cvtColor( segmented_image, cv2.COLOR_BGR2GRAY)\n",
    "\n",
    "    # Convert RGB to BGR format\n",
    "    class_color_bgr = class_color_rgb[::-1]\n",
    "\n",
    "    # Create the binary mask by comparing pixel values with the class color\n",
    "    binary_mask = np.zeros_like(gray_mask)\n",
    "    binary_mask[np.all( segmented_image == class_color_bgr, axis=-1)] = 255\n",
    "\n",
    "    # Save the binary mask as an image\n",
    "    cv2.imwrite(save_path, binary_mask)\n"
   ]
  },
  {
   "cell_type": "code",
   "execution_count": 4,
   "id": "4b7ecaab",
   "metadata": {},
   "outputs": [],
   "source": [
    "segmented_mask = ('/home/ritesh/Desktop/workENV/atithi_work/Semantic_Segmentation/dataset_combined_final/output/image_1634.png')\n",
    "class_name = 'Wall'\n",
    "save_path = 'binary_mask.png'\n",
    "rgb_semantic_segmentation_mask_to_binary_mask(segmented_mask, class_name, save_path)"
   ]
  },
  {
   "cell_type": "code",
   "execution_count": null,
   "id": "41a5024e",
   "metadata": {},
   "outputs": [],
   "source": []
  }
 ],
 "metadata": {
  "kernelspec": {
   "display_name": "Python 3",
   "language": "python",
   "name": "python3"
  },
  "language_info": {
   "codemirror_mode": {
    "name": "ipython",
    "version": 3
   },
   "file_extension": ".py",
   "mimetype": "text/x-python",
   "name": "python",
   "nbconvert_exporter": "python",
   "pygments_lexer": "ipython3",
   "version": "3.6.9"
  }
 },
 "nbformat": 4,
 "nbformat_minor": 5
}
