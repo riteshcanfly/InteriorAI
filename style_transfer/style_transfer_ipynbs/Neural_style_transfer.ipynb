{
 "cells": [
  {
   "cell_type": "markdown",
   "id": "a6d7c387",
   "metadata": {},
   "source": [
    "## TensorFlow and Model Loading Configuration"
   ]
  },
  {
   "cell_type": "code",
   "execution_count": 1,
   "id": "f726dc8d",
   "metadata": {},
   "outputs": [],
   "source": [
    "import os\n",
    "import tensorflow as tf\n",
    "# Load compressed models from tensorflow_hub\n",
    "os.environ['TFHUB_MODEL_LOAD_FORMAT'] = 'COMPRESSED'"
   ]
  },
  {
   "cell_type": "markdown",
   "id": "a5fcc55f",
   "metadata": {},
   "source": [
    "## Visualization and Utility Imports"
   ]
  },
  {
   "cell_type": "code",
   "execution_count": null,
   "id": "80cf88fb",
   "metadata": {},
   "outputs": [],
   "source": [
    "import IPython.display as display\n",
    "\n",
    "import matplotlib.pyplot as plt\n",
    "import matplotlib as mpl\n",
    "mpl.rcParams['figure.figsize'] = (12, 12)\n",
    "mpl.rcParams['axes.grid'] = False\n",
    "\n",
    "import numpy as np\n",
    "import PIL.Image\n",
    "import time\n",
    "import functools"
   ]
  },
  {
   "cell_type": "markdown",
   "id": "b8fe938d",
   "metadata": {},
   "source": [
    "## Tensor to Image Conversion"
   ]
  },
  {
   "cell_type": "code",
   "execution_count": null,
   "id": "83c13c78",
   "metadata": {},
   "outputs": [],
   "source": [
    "def tensor_to_image(tensor):\n",
    "    \"\"\"\n",
    "    Converts a TensorFlow tensor to a PIL image.\n",
    "\n",
    "    Args:\n",
    "        tensor (tf.Tensor): Input tensor.\n",
    "\n",
    "    Returns:\n",
    "        PIL.Image.Image: Converted PIL image.\n",
    "    \"\"\"\n",
    "    tensor = tensor * 255\n",
    "    tensor = np.array(tensor, dtype=np.uint8)\n",
    "    if np.ndim(tensor) > 3:\n",
    "        assert tensor.shape[0] == 1\n",
    "        tensor = tensor[0]\n",
    "    return PIL.Image.fromarray(tensor)\n"
   ]
  },
  {
   "cell_type": "markdown",
   "id": "e675b2ba",
   "metadata": {},
   "source": [
    "## Image Loading Function"
   ]
  },
  {
   "cell_type": "code",
   "execution_count": 2,
   "id": "a7cbcf8a",
   "metadata": {},
   "outputs": [],
   "source": [
    "def nst_load_img(path_to_img):\n",
    "    \"\"\"\n",
    "    Loads an image from the given file path and performs preprocessing.\n",
    "\n",
    "    Args:\n",
    "        path_to_img (str): File path of the input image.\n",
    "\n",
    "    Returns:\n",
    "        tf.Tensor: Preprocessed image tensor.\n",
    "    \"\"\"\n",
    "    max_dim = 512\n",
    "\n",
    "    # Read image file\n",
    "    img = tf.io.read_file(path_to_img)\n",
    "    img = tf.image.decode_image(img, channels=3)\n",
    "    img = tf.image.convert_image_dtype(img, tf.float32)\n",
    "\n",
    "    shape = tf.cast(tf.shape(img)[:-1], tf.float32)\n",
    "    long_dim = max(shape)\n",
    "    scale = max_dim / long_dim\n",
    "\n",
    "    new_shape = tf.cast(shape * scale, tf.int32)\n",
    "\n",
    "    # Resize image\n",
    "    img = tf.image.resize(img, new_shape)\n",
    "    img = img[tf.newaxis, :]\n",
    "\n",
    "    return img\n"
   ]
  },
  {
   "cell_type": "markdown",
   "id": "5632562a",
   "metadata": {},
   "source": [
    "## Image Visualization Function"
   ]
  },
  {
   "cell_type": "code",
   "execution_count": null,
   "id": "bec8645d",
   "metadata": {},
   "outputs": [],
   "source": [
    "def show_image(image, title=None):\n",
    "    \"\"\"\n",
    "    Displays an image using matplotlib.pyplot.show_image.\n",
    "\n",
    "    Args:\n",
    "        image (tf.Tensor or np.ndarray): Image to display.\n",
    "        title (str, optional): Title of the image plot.\n",
    "\n",
    "    Returns:\n",
    "        The function shows the image\n",
    "    \"\"\"\n",
    "    if len(image.shape) > 3:\n",
    "        image = tf.squeeze(image, axis=0)\n",
    "\n",
    "    plt.imshow(image)\n",
    "    if title:\n",
    "        plt.title(title)\n"
   ]
  },
  {
   "cell_type": "code",
   "execution_count": 4,
   "id": "397fd121",
   "metadata": {},
   "outputs": [],
   "source": [
    "content_image = nst_load_img('/home/ritesh/Desktop/workENV/atithi_work/Semantic_Segmentation/dataset_combined_final/images/image_1.png')\n",
    "style_image = nst_load_img('/home/ritesh/Desktop/workENV/atithi_work/style_transfer/class_based_style_transfer/floori_styles/style_4.png')\n",
    "\n",
    "#plt.subplot(1, 2, 1)\n",
    "#show_image(content_image, 'Content Image')\n",
    "\n",
    "#plt.subplot(1, 2, 2)\n",
    "#show_image(style_image, 'Style Image')"
   ]
  },
  {
   "cell_type": "markdown",
   "id": "d54b2e09",
   "metadata": {},
   "source": [
    "## TensorFlow Hub and Arbitrary Image Stylization Model"
   ]
  },
  {
   "cell_type": "code",
   "execution_count": 5,
   "id": "1f4668db",
   "metadata": {},
   "outputs": [],
   "source": [
    "import tensorflow_hub as hub\n",
    "import matplotlib.pyplot as plt\n",
    "\n",
    "# Load the arbitrary image stylization model from TensorFlow Hub\n",
    "hub_model = hub.load('https://tfhub.dev/google/magenta/arbitrary-image-stylization-v1-256/2')\n",
    "\n",
    "# Apply image stylization by passing the content and style images to the model\n",
    "stylized_image = hub_model(tf.constant(content_image), tf.constant(style_image))[0]\n",
    "\n",
    "# Convert the stylized image tensor to tf.uint8 data type for saving\n",
    "stylized_image = tf.image.convert_image_dtype(stylized_image, tf.uint8)\n",
    "\n",
    "# Remove the singleton dimensions and obtain a 3-dimensional image tensor\n",
    "stylized_image = tf.squeeze(stylized_image)\n",
    "\n",
    "# Convert the stylized image tensor to a NumPy array\n",
    "stylized_image = stylized_image.numpy()\n",
    "\n",
    "# Save the stylized image as a PNG file\n",
    "output_path = 'try_1.png'\n",
    "plt.imsave(output_path, stylized_image)\n"
   ]
  },
  {
   "cell_type": "code",
   "execution_count": null,
   "id": "2699ef21",
   "metadata": {},
   "outputs": [],
   "source": []
  }
 ],
 "metadata": {
  "kernelspec": {
   "display_name": "Python 3",
   "language": "python",
   "name": "python3"
  },
  "language_info": {
   "codemirror_mode": {
    "name": "ipython",
    "version": 3
   },
   "file_extension": ".py",
   "mimetype": "text/x-python",
   "name": "python",
   "nbconvert_exporter": "python",
   "pygments_lexer": "ipython3",
   "version": "3.6.9"
  }
 },
 "nbformat": 4,
 "nbformat_minor": 5
}
