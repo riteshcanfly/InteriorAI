{
 "cells": [
  {
   "cell_type": "code",
   "execution_count": 1,
   "id": "be6a926d",
   "metadata": {},
   "outputs": [],
   "source": [
    "from PIL import Image\n",
    "import os\n",
    "\n",
    "   \n",
    "def resize_style_image(image_path,new_width,new_height):\n",
    "    \"\"\"\n",
    "    The function resizes a single image\n",
    "\n",
    "    Args:\n",
    "        folder_path (str): Path to the folder containing the PNG images to be resized.\n",
    "        new_width (int): The desired width of the resized images.\n",
    "        new_height (int): The desired height of the resized images.\n",
    "    Return:\n",
    "        None: The function saves the resized images.\n",
    "    Example:\n",
    "        new_width = 1920\n",
    "        new_height = 1080\n",
    "        image_path = \"/path/to/image\"\n",
    "        resize_style_image(image_path,new_width,new_height)\n",
    "        \n",
    "    \"\"\"\n",
    "    image = Image.open(image_path)\n",
    "    resized_image = image.resize((new_width, new_height))\n",
    "    resized_image.save(image_path)"
   ]
  },
  {
   "cell_type": "code",
   "execution_count": 2,
   "id": "3876d3e5",
   "metadata": {},
   "outputs": [],
   "source": [
    "new_width = 1920\n",
    "new_height = 1080\n",
    "image_path = \"/home/ritesh/Desktop/workENV/atithi_work/style_transfer/class_based_style_transfer/floori_styles/style_4.png\"\n",
    "resize_style_image(image_path,new_width,new_height)"
   ]
  },
  {
   "cell_type": "code",
   "execution_count": null,
   "id": "1fce258f",
   "metadata": {},
   "outputs": [],
   "source": []
  }
 ],
 "metadata": {
  "kernelspec": {
   "display_name": "Python 3",
   "language": "python",
   "name": "python3"
  },
  "language_info": {
   "codemirror_mode": {
    "name": "ipython",
    "version": 3
   },
   "file_extension": ".py",
   "mimetype": "text/x-python",
   "name": "python",
   "nbconvert_exporter": "python",
   "pygments_lexer": "ipython3",
   "version": "3.6.9"
  }
 },
 "nbformat": 4,
 "nbformat_minor": 5
}
